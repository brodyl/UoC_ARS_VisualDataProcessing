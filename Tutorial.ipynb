{
 "cells": [
  {
   "attachments": {},
   "cell_type": "markdown",
   "metadata": {},
   "source": [
    "# Visual Data Processing\n",
    "**Bardia Khosravi, MD MPH MHPE**\n",
    "\n",
    "by: Bardia Khosravi, MD MPH MHPE <a href=\"https://twitter.com/Khosravi_Bardia\"><img width=\"16\" src=\"https://i.ibb.co/J7Tpg3Q/twitter-logo-2429.png\"></a>\n",
    "\n",
    "*Mayo Clinic AI Lab, Department of Radiology, Mayo Clinic, Rochester, MN, US*"
   ]
  },
  {
   "attachments": {},
   "cell_type": "markdown",
   "metadata": {},
   "source": [
    "## 0. Data preparation "
   ]
  },
  {
   "attachments": {},
   "cell_type": "markdown",
   "metadata": {},
   "source": [
    "Run the next cell to prepare this session's files."
   ]
  },
  {
   "cell_type": "code",
   "execution_count": null,
   "metadata": {},
   "outputs": [],
   "source": [
    "!git clone https://github.com/BardiaKh/UoC_ARS_VisualDataProcessing.git\n",
    "!mv UoC_ARS_VisualDataProcessing/* ."
   ]
  },
  {
   "attachments": {},
   "cell_type": "markdown",
   "metadata": {},
   "source": [
    "## 1. Introduction"
   ]
  },
  {
   "attachments": {},
   "cell_type": "markdown",
   "metadata": {},
   "source": [
    "In this workshop, we work with three image handling libraries, namely Pillow, OpenCV, and skimage. Each library has its own pros and cons, which we will cover at the end of this session. But first, lets dive into what images are made up of."
   ]
  },
  {
   "cell_type": "code",
   "execution_count": null,
   "metadata": {},
   "outputs": [],
   "source": [
    "# @title Run this cell to visualize an image with its pixel values. { vertical-output: true, display-mode: \"form\" }\n",
    "# @markdown *You can take a sneak peak at the code*.\n",
    "\n",
    "import pandas as pd\n",
    "import matplotlib as mpl\n",
    "\n",
    "img = pd.read_csv(\"image.csv\")\n",
    "cmap = mpl.colors.LinearSegmentedColormap.from_list(\"bw\", [\"black\", \"white\"])\n",
    "img.style.background_gradient(cmap=cmap)"
   ]
  },
  {
   "attachments": {},
   "cell_type": "markdown",
   "metadata": {},
   "source": [
    "In a colored image, you have three different dimensions:\n",
    "\n",
    "\n",
    "1.   The first dimension is the image height (H)\n",
    "2.   The second dimension is the image width (W)\n",
    "3.   The third dimension is the image channels (C)\n",
    "\n",
    "In short, you can say the array is `H:W:C`.\n",
    "\n",
    "Most computer displays show images as a collection of pixels, and each pixel creates color by mixing specific amounts of red, green, and blue light. These specific amounts are stored in three different channels when we save images.\n",
    "\n",
    "<br>\n",
    "<img src=\"https://i.ibb.co/CbgLynF/Image-Channels.png\" alt=\"Figure 5\" style='margin:auto' border=\"0\">\n",
    "\n",
    "<u><b>Figure 1.</b> RGB Image Coordination System ([source](https://towardsdatascience.com/understanding-images-with-skimage-python-b94d210afd23))</u><br><br>\n",
    "\n",
    "So imagine that our image is made up of three layers each with a height of 512px and a width of 512px. These layers are stacked together to create an RGB image.\n",
    "\n",
    "Usually natural images are 8-bit, meaning that each pixel value can range from 0-255."
   ]
  },
  {
   "attachments": {},
   "cell_type": "markdown",
   "metadata": {},
   "source": [
    "## 2. Libraries"
   ]
  },
  {
   "attachments": {},
   "cell_type": "markdown",
   "metadata": {},
   "source": [
    "Before starting, we have to install the three libraries. These libraries are already installed on Colab, but to install these libraries in your local computer, you can copy and paste the following code in a new cell and run the cell:\n",
    "\n",
    "```python\n",
    "!pip install scikit-image opencv-python pillow\n",
    "```\n",
    "\n",
    "*Disclaimer:* Most of the images used for this section are created by an AI model called [Stable Diffusion](https://stability.ai) ([source](https://simplified.com/blog/ai-text-to-image/stable-diffusion-images/))."
   ]
  },
  {
   "attachments": {},
   "cell_type": "markdown",
   "metadata": {},
   "source": [
    "**2.1. Pillow (PIL)**"
   ]
  },
  {
   "attachments": {},
   "cell_type": "markdown",
   "metadata": {},
   "source": [
    "This is a high-level library for image IO and simple manipulation. It is based on C, so it is faster than pyhton-based packages. You can open a file with PIL like this:"
   ]
  },
  {
   "cell_type": "code",
   "execution_count": null,
   "metadata": {},
   "outputs": [],
   "source": [
    "from PIL import Image\n",
    "\n",
    "raw_image = Image.open(\"samples/img_1.png\")\n",
    "raw_image"
   ]
  },
  {
   "attachments": {},
   "cell_type": "markdown",
   "metadata": {},
   "source": [
    "As you see, notebook environment supports displaying PIL images out of the box, i.e. without using any library (such as `matplotlib`). As we said, we images are multidimentional arrays, let's convert this PIL image to an array and inspect its characteristics:"
   ]
  },
  {
   "cell_type": "code",
   "execution_count": null,
   "metadata": {},
   "outputs": [],
   "source": [
    "import numpy as np\n",
    "\n",
    "img = np.array(raw_image)\n",
    "\n",
    "print(\"Image shape: \", img.shape)\n",
    "print(\"Image data type: \", img.dtype)"
   ]
  },
  {
   "attachments": {},
   "cell_type": "markdown",
   "metadata": {},
   "source": [
    "So in other words, we have an image with height of 667px, width of 1000px and three channels (red, green, and blue).\n",
    "Let's visualize each channel independently. As we said previously, we need matplotlib library to show numpy arrays:"
   ]
  },
  {
   "cell_type": "code",
   "execution_count": null,
   "metadata": {},
   "outputs": [],
   "source": [
    "import matplotlib.pyplot as plt\n",
    "\n",
    "# this is a magic command to display the image in the notebook\n",
    "%matplotlib inline\n",
    "\n",
    "fig, ax = plt.subplots(1, 3, figsize=(21, 7))\n",
    "ax[0].imshow(img[:, :, 0], cmap=\"Reds\")\n",
    "ax[0].set_title(\"Red channel\")\n",
    "ax[1].imshow(img[:, :, 1], cmap=\"Greens\")\n",
    "ax[1].set_title(\"Green channel\")\n",
    "ax[2].imshow(img[:, :, 2], cmap=\"Blues\")\n",
    "ax[2].set_title(\"Blue channel\")\n",
    "_ = [ax_.set_axis_off() for ax_ in ax]\n",
    "plt.show()"
   ]
  },
  {
   "attachments": {},
   "cell_type": "markdown",
   "metadata": {},
   "source": [
    "Grayscale images have only one channel (or even zero channels). This means that when being displayed, the value for the three RGB channels would be the same to create different shades of gray. Let's convert this image to grayscale and save it using PIL:"
   ]
  },
  {
   "cell_type": "code",
   "execution_count": null,
   "metadata": {},
   "outputs": [],
   "source": [
    "grayscale_image = img.mean(axis=2)\n",
    "grayscale_image = Image.fromarray(grayscale_image.astype(np.uint8))\n",
    "grayscale_image.save(\"grayscale_image.png\")"
   ]
  },
  {
   "attachments": {},
   "cell_type": "markdown",
   "metadata": {},
   "source": [
    "Pillow allows for simple operations like rotation and flipping:"
   ]
  },
  {
   "cell_type": "code",
   "execution_count": null,
   "metadata": {},
   "outputs": [],
   "source": [
    "raw_image.transpose(Image.ROTATE_90)"
   ]
  },
  {
   "cell_type": "code",
   "execution_count": null,
   "metadata": {},
   "outputs": [],
   "source": [
    "raw_image.transpose(Image.FLIP_LEFT_RIGHT)"
   ]
  },
  {
   "attachments": {},
   "cell_type": "markdown",
   "metadata": {},
   "source": [
    "There are some other capabilities, but other libraries that we discuss will do a better job in them so let's check them out."
   ]
  },
  {
   "attachments": {},
   "cell_type": "markdown",
   "metadata": {},
   "source": [
    "**2.2. Skimage**"
   ]
  },
  {
   "attachments": {},
   "cell_type": "markdown",
   "metadata": {},
   "source": [
    "This is the most *pythonic* image processing library, it has a very familiar API and will take care of most pre- and post-processings that we usually need for deep learning tasks."
   ]
  },
  {
   "cell_type": "code",
   "execution_count": null,
   "metadata": {},
   "outputs": [],
   "source": [
    "from skimage import io\n",
    "\n",
    "raw_image = io.imread(\"samples/img_2.png\")\n",
    "raw_image"
   ]
  },
  {
   "attachments": {},
   "cell_type": "markdown",
   "metadata": {},
   "source": [
    "As you see, skimage ones images as arrays, so there is no need to convert it to numpy array. We can use the `matplotlib` library as we did before:"
   ]
  },
  {
   "cell_type": "code",
   "execution_count": null,
   "metadata": {},
   "outputs": [],
   "source": [
    "plt.imshow(raw_image);\n",
    "print(\"Image shape: \", raw_image.shape)"
   ]
  },
  {
   "attachments": {},
   "cell_type": "markdown",
   "metadata": {},
   "source": [
    "What is the 4th channel?"
   ]
  },
  {
   "cell_type": "code",
   "execution_count": null,
   "metadata": {},
   "outputs": [],
   "source": [
    "raw_image = raw_image[:, :, :3]"
   ]
  },
  {
   "attachments": {},
   "cell_type": "markdown",
   "metadata": {},
   "source": [
    "Let's resize the image to half its size:"
   ]
  },
  {
   "cell_type": "code",
   "execution_count": null,
   "metadata": {},
   "outputs": [],
   "source": [
    "from skimage.transform import resize\n",
    "\n",
    "new_image_size = (raw_image.shape[0]//2, raw_image.shape[1]//2) # height, width\n",
    "resized_image = resize(raw_image, new_image_size)\n",
    "plt.imshow(resized_image);"
   ]
  },
  {
   "attachments": {},
   "cell_type": "markdown",
   "metadata": {},
   "source": [
    "Let's inspect the values of the image:"
   ]
  },
  {
   "cell_type": "code",
   "execution_count": null,
   "metadata": {},
   "outputs": [],
   "source": [
    "print(\"Raw Image Range: \", raw_image.min(), raw_image.max())\n",
    "print(\"Resized Image Range: \", resized_image.min(), resized_image.max())"
   ]
  },
  {
   "attachments": {},
   "cell_type": "markdown",
   "metadata": {},
   "source": [
    "You see that the image data type is converted to float, ranging from 0-1. This is a common practice to rescale image intensities (will be discussed in future sessions), but we should be careful when we want to save the image, as we have to convert the range back to 0-255:"
   ]
  },
  {
   "cell_type": "code",
   "execution_count": null,
   "metadata": {},
   "outputs": [],
   "source": [
    "resized_image = (resized_image * 255).astype(np.uint8)\n",
    "io.imsave(\"resized_image.png\", resized_image)"
   ]
  },
  {
   "attachments": {},
   "cell_type": "markdown",
   "metadata": {},
   "source": [
    "**Practical Challenge 1**: As the images are arrays, write a function that gets a 100*100px crop from the center of the image:"
   ]
  },
  {
   "cell_type": "code",
   "execution_count": null,
   "metadata": {},
   "outputs": [],
   "source": [
    "def center_crop_image(image):\n",
    "    size = 100\n",
    "    original_image = image.copy()\n",
    "    ## START CODE HERE ## (≈ 1 line of code)\n",
    "\n",
    "\n",
    "\n",
    "    ## END CODE HERE ##\n",
    "\n",
    "    return image\n",
    "\n",
    "cropped_image = center_crop_image(raw_image)\n",
    "print(\"Cropped Image Shape: \", cropped_image.shape)\n",
    "plt.imshow(cropped_image)"
   ]
  },
  {
   "attachments": {},
   "cell_type": "markdown",
   "metadata": {},
   "source": [
    "Padding is very similar to cropping an image. Essentially, when you want to pad an image, you create a larger image (with zeros on all pixels, i.e., black) and then *\"paste\"* the original image onto the new one.\n",
    "\n",
    "**Practical Challenge 2**: Based on the abpve description, write a function that center pads an image for 100px. The original image should be the surrounded by 100 pixels of zeros on each side:"
   ]
  },
  {
   "cell_type": "code",
   "execution_count": null,
   "metadata": {},
   "outputs": [],
   "source": [
    "def center_pad_image(image):\n",
    "    margin_size = 100\n",
    "    original_image = image.copy()    \n",
    "    ## START CODE HERE ## (≈ 2 lines of code)\n",
    "\n",
    "    # initialize the large image with zeros (np.zeros)\n",
    "    large_image = \n",
    "\n",
    "    \n",
    "\n",
    "    ## END CODE HERE ##\n",
    "\n",
    "    return large_image\n",
    "\n",
    "padded_image = center_pad_image(raw_image)\n",
    "print(\"Padded Image Shape: \", padded_image.shape)\n",
    "plt.imshow(padded_image)"
   ]
  },
  {
   "attachments": {},
   "cell_type": "markdown",
   "metadata": {},
   "source": [
    "Doing image transformations with skimage is much more intuitive. You can import that specific transform (`from skimage.transforms import ...`) and then use it as a function. A full list of supported transforms can be found [here](https://scikit-image.org/docs/stable/api/skimage.transform.html)."
   ]
  },
  {
   "cell_type": "code",
   "execution_count": null,
   "metadata": {},
   "outputs": [],
   "source": [
    "from skimage.transform import rotate\n",
    "\n",
    "rotated_image = rotate(raw_image, angle=45)\n",
    "plt.imshow(rotated_image);\n",
    "print(\"Rotated Image Range: \", rotated_image.min(), rotated_image.max())"
   ]
  },
  {
   "attachments": {},
   "cell_type": "markdown",
   "metadata": {},
   "source": [
    "Skimage also has a lot more capabilities like contour detection, contrast enhancement, labeling operations, etc. that we will not discuss in this session."
   ]
  },
  {
   "attachments": {},
   "cell_type": "markdown",
   "metadata": {},
   "source": [
    "**2.3. OpenCV (cv2)**"
   ]
  },
  {
   "attachments": {},
   "cell_type": "markdown",
   "metadata": {},
   "source": [
    "Open CV is a library of programming functions mainly aimed at real-time computer vision. It is used for image processing, video capture and analysis including features like face detection and object detection. Compared to other libraries, OpenCV is more efficient in processing (as it is based on C) and has a large number of functions.\n",
    "\n",
    "Openning an image is easy with openCV:"
   ]
  },
  {
   "cell_type": "code",
   "execution_count": null,
   "metadata": {},
   "outputs": [],
   "source": [
    "import cv2\n",
    "\n",
    "raw_image = cv2.imread(\"samples/img_3.jpg\")\n",
    "raw_image = cv2.cvtColor(raw_image, cv2.COLOR_BGR2RGB)\n",
    "plt.imshow(raw_image);\n",
    "print(\"Image shape: \", raw_image.shape)\n",
    "print(\"Type: \", type(raw_image))"
   ]
  },
  {
   "attachments": {},
   "cell_type": "markdown",
   "metadata": {},
   "source": [
    "One important difference, is that when an image is read by openCV, the order of channels are blue, green, and red (BGR). That's why we need to convert it using `cv2.cvtColor(raw_image, cv2.COLOR_BGR2RGB)`.\n",
    "\n",
    "Let's try some of the things we did before for resizing and rotating:"
   ]
  },
  {
   "cell_type": "code",
   "execution_count": null,
   "metadata": {},
   "outputs": [],
   "source": [
    "resized_image = cv2.resize(raw_image, (400, 200)) # width, height\n",
    "plt.imshow(resized_image);\n",
    "print(\"Image shape: \", resized_image.shape)\n",
    "print(\"Image Range: \", resized_image.min(), resized_image.max())"
   ]
  },
  {
   "cell_type": "code",
   "execution_count": null,
   "metadata": {},
   "outputs": [],
   "source": [
    "rotated_image = cv2.rotate(raw_image, cv2.ROTATE_90_CLOCKWISE)\n",
    "plt.imshow(rotated_image);"
   ]
  },
  {
   "attachments": {},
   "cell_type": "markdown",
   "metadata": {},
   "source": [
    "For rotating by arbitrary values, you have to create an affine matrix as a *\"formula\"* on how to change pixel values. Something like this:"
   ]
  },
  {
   "cell_type": "code",
   "execution_count": null,
   "metadata": {},
   "outputs": [],
   "source": [
    "def rotate_image(image, angle):\n",
    "  image_center = tuple(np.array(image.shape[1::-1]) / 2)\n",
    "  rot_mat = cv2.getRotationMatrix2D(image_center, angle, 1.0)\n",
    "  result = cv2.warpAffine(image, rot_mat, image.shape[1::-1], flags=cv2.INTER_LINEAR)\n",
    "  \n",
    "  return result\n",
    "\n",
    "rotated_image = rotate_image(raw_image, 45)\n",
    "plt.imshow(rotated_image);"
   ]
  },
  {
   "attachments": {},
   "cell_type": "markdown",
   "metadata": {},
   "source": [
    "Sometimes, you might need to create a grayscale image, you can convert the color scheme to `GRAY`:"
   ]
  },
  {
   "cell_type": "code",
   "execution_count": null,
   "metadata": {},
   "outputs": [],
   "source": [
    "grayscale_image = cv2.cvtColor(raw_image, cv2.COLOR_RGB2GRAY)\n",
    "plt.imshow(grayscale_image, cmap=\"gray\");\n",
    "print(\"Image shape: \", grayscale_image.shape)"
   ]
  },
  {
   "attachments": {},
   "cell_type": "markdown",
   "metadata": {},
   "source": [
    "In some cases, you might want to create a binary mask from an image, meaning to convert all pixels to either zero and one:"
   ]
  },
  {
   "cell_type": "code",
   "execution_count": null,
   "metadata": {},
   "outputs": [],
   "source": [
    "def binarize_image(image):\n",
    "    threshold, binary_image = cv2.threshold(image, 0, 255, cv2.THRESH_BINARY + cv2.THRESH_OTSU)\n",
    "    \n",
    "    return binary_image\n",
    "\n",
    "binary_image = binarize_image(grayscale_image)\n",
    "plt.imshow(binary_image, cmap=\"gray\");"
   ]
  },
  {
   "attachments": {},
   "cell_type": "markdown",
   "metadata": {},
   "source": [
    "Finally, we can save the image to disk using:"
   ]
  },
  {
   "cell_type": "code",
   "execution_count": null,
   "metadata": {},
   "outputs": [],
   "source": [
    "cv2.imwrite(\"binary_image.png\", binary_image)"
   ]
  },
  {
   "attachments": {},
   "cell_type": "markdown",
   "metadata": {},
   "source": [
    "Videos are created by sequentially showing images one after the other. So we can open a single frame, manipulate it, and then put the frames backtogether."
   ]
  },
  {
   "cell_type": "code",
   "execution_count": null,
   "metadata": {},
   "outputs": [],
   "source": [
    "capture = cv2.VideoCapture(\"video.mp4\")\n",
    "new_capture = cv2.VideoWriter(\"new_video.mp4\", cv2.VideoWriter_fourcc(*\"mp4v\"), 30, (100, 100))\n",
    "while True:\n",
    "    rect, frame = capture.read()\n",
    "\n",
    "    if not rect:\n",
    "        break\n",
    "\n",
    "    new_frame = cv2.resize(frame, (100, 100), cv2.INTER_AREA)\n",
    "    new_capture.write(new_frame)\n",
    "\n",
    "\n",
    "capture.release()\n",
    "new_capture.release()"
   ]
  },
  {
   "attachments": {},
   "cell_type": "markdown",
   "metadata": {},
   "source": [
    "There are other libraries for video opening, like `imageio` but all they do is just open the video, and frame-by-frame processing should be done by either of these three libraries."
   ]
  },
  {
   "attachments": {},
   "cell_type": "markdown",
   "metadata": {},
   "source": [
    "## 3. Final Challenge"
   ]
  },
  {
   "attachments": {},
   "cell_type": "markdown",
   "metadata": {},
   "source": [
    "When doing deep learning projects, we need to make the shape of all images the same, so our models be trained on one image resolution. Here we have 14 images in the `./samples` folder:"
   ]
  },
  {
   "cell_type": "code",
   "execution_count": null,
   "metadata": {},
   "outputs": [],
   "source": [
    "from glob import glob\n",
    "\n",
    "image_paths = sorted(glob(\"samples/*.*\"))\n",
    "print(image_paths)"
   ]
  },
  {
   "attachments": {},
   "cell_type": "markdown",
   "metadata": {},
   "source": [
    "What we need is to have a function, that gets an image path (string), and image size(integer) and:\n",
    "1. Reads the file\n",
    "2. Converts all images to **three channels**\n",
    "3. Resizes the image in a way that the **aspect ratio is not changes**.\n",
    "4. Pads the extra space around the image, so that **the image would be centered**.\n",
    "5. Saves the image to disk in a new folder called `./new_samples` as **.png** format.\n",
    "\n",
    "You can use a mix of the three libraries that we mentioned today."
   ]
  },
  {
   "cell_type": "code",
   "execution_count": null,
   "metadata": {},
   "outputs": [],
   "source": [
    "def standardize_image(image_path, image_size):\n",
    "    ## START CODE HERE ## (≈ 20 lines of code)\n",
    "    # 1. Read the image\n",
    "    image = \n",
    "    # 2. Ensure the image is RGB\n",
    "\n",
    "    # 3. Resize the image\n",
    "\n",
    "    # 4. Pad the image\n",
    "\n",
    "    # 5. Save the image\n",
    "\n",
    "    ## END CODE HERE ##\n",
    "\n",
    "    return image"
   ]
  },
  {
   "cell_type": "code",
   "execution_count": null,
   "metadata": {},
   "outputs": [],
   "source": [
    "#Sanity Check\n",
    "from skimage import io\n",
    "\n",
    "new_path = [path.replace(\"samples\", \"new_samples\") for path in image_paths]\n",
    "for path in image_paths:\n",
    "    standardize_image(image_path=path, image_size=256)\n",
    "    new_path = path.replace(\"samples\", \"new_samples\")\n",
    "    new_path = new_path.replace(\"jpg\", \"png\")\n",
    "    new_image = io.imread(new_path)\n",
    "    if new_image.shape != (256, 256, 3):\n",
    "        print(\"Image shape is not correct for image: \", path)\n",
    "        break\n",
    "    if new_image.min() < 0 or new_image.max() > 255:\n",
    "        print(\"Image range is not correct for image: \", path)\n",
    "        break\n",
    "else:\n",
    "    print(\"All images are correct!\")"
   ]
  },
  {
   "attachments": {},
   "cell_type": "markdown",
   "metadata": {},
   "source": [
    "Thank you for your attention!"
   ]
  }
 ],
 "metadata": {
  "kernelspec": {
   "display_name": "vscode",
   "language": "python",
   "name": "python3"
  },
  "language_info": {
   "codemirror_mode": {
    "name": "ipython",
    "version": 3
   },
   "file_extension": ".py",
   "mimetype": "text/x-python",
   "name": "python",
   "nbconvert_exporter": "python",
   "pygments_lexer": "ipython3",
   "version": "3.9.12 (main, Apr  4 2022, 05:22:27) [MSC v.1916 64 bit (AMD64)]"
  },
  "orig_nbformat": 4,
  "vscode": {
   "interpreter": {
    "hash": "a008ab9d53f7fa12764c5d01f8069e8e0d285449680c4fb00a91fc3c98fc1fd3"
   }
  }
 },
 "nbformat": 4,
 "nbformat_minor": 2
}
